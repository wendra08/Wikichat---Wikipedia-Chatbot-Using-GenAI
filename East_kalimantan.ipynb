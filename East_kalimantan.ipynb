{
 "cells": [
  {
   "cell_type": "code",
   "execution_count": 3,
   "metadata": {},
   "outputs": [
    {
     "name": "stderr",
     "output_type": "stream",
     "text": [
      "ERROR: pip's dependency resolver does not currently take into account all the packages that are installed. This behaviour is the source of the following dependency conflicts.\n",
      "chatterbot 1.0.4 requires python-dateutil<2.8,>=2.7, but you have python-dateutil 2.9.0.post0 which is incompatible.\n",
      "chatterbot 1.0.4 requires sqlalchemy<1.3,>=1.2, but you have sqlalchemy 2.0.35 which is incompatible.\n",
      "\n",
      "[notice] A new release of pip is available: 23.3.1 -> 24.2\n",
      "[notice] To update, run: python.exe -m pip install --upgrade pip\n"
     ]
    }
   ],
   "source": [
    "!pip install --quiet --upgrade langchain langchain-community langchain-chroma"
   ]
  },
  {
   "cell_type": "markdown",
   "metadata": {},
   "source": [
    "## Import Library"
   ]
  },
  {
   "cell_type": "code",
   "execution_count": 1,
   "metadata": {},
   "outputs": [],
   "source": [
    "from langchain_community.document_loaders import WikipediaLoader"
   ]
  },
  {
   "cell_type": "markdown",
   "metadata": {},
   "source": [
    "## Load Model"
   ]
  },
  {
   "cell_type": "code",
   "execution_count": 2,
   "metadata": {},
   "outputs": [],
   "source": [
    "docs = WikipediaLoader(query=\"East_kalimantan\",  load_max_docs=2, lang='id').load() "
   ]
  },
  {
   "cell_type": "code",
   "execution_count": 3,
   "metadata": {},
   "outputs": [
    {
     "data": {
      "text/plain": [
       "{'title': 'Kalimantan',\n",
       " 'summary': 'Kalimantan (toponim: Kalamantan, Calémantan, Kalémantan, Kelamantan, Kilamantan, Klamantan, Klémantan, K\\'lemantan, Quallamontan), atau juga disebut Borneo oleh dunia internasional, adalah pulau terbesar ketiga di dunia yang terletak di sebelah utara Pulau Jawa dan di sebelah barat Pulau Sulawesi. Pulau Kalimantan dibagi menjadi wilayah Indonesia (73%), Malaysia (26%), dan Brunei (1%). Pulau Kalimantan terkenal dengan julukan \"Pulau Seribu Sungai\" karena banyaknya sungai yang mengalir di pulau ini.\\nBorneo—yang berasal dari nama kesultanan Brunei—adalah nama yang dipakai oleh kolonial Inggris dan Belanda untuk menyebut pulau ini secara keseluruhan, sedangkan Kalimantan adalah nama yang digunakan oleh penduduk bagian timur pulau yang sekarang termasuk wilayah Indonesia.\\nWilayah utara pulau ini (Sabah, Brunei, Sarawak) untuk Malaysia dan Brunei Darussalam. Sementara untuk Indonesia wilayah Utara, adalah provinsi Kalimantan Utara.\\nDalam arti luas \"Kalimantan\" meliputi seluruh pulau yang juga disebut dengan Borneo, sedangkan dalam arti sempit Kalimantan hanya mengacu pada wilayah Indonesia.\\n\\n',\n",
       " 'source': 'https://id.wikipedia.org/wiki/Kalimantan'}"
      ]
     },
     "execution_count": 3,
     "metadata": {},
     "output_type": "execute_result"
    }
   ],
   "source": [
    "docs[0].metadata # metadata of the first document"
   ]
  },
  {
   "cell_type": "markdown",
   "metadata": {},
   "source": [
    "## Build RAG"
   ]
  },
  {
   "cell_type": "code",
   "execution_count": 4,
   "metadata": {},
   "outputs": [
    {
     "data": {
      "text/plain": [
       "'Kalimantan (toponim: Kalamantan, Calémantan, Kalémantan, Kelamantan, Kilamantan, Klamantan, Klémantan, K\\'lemantan, Quallamontan), atau juga disebut Borneo oleh dunia internasional, adalah pulau terbesar ketiga di dunia yang terletak di sebelah utara Pulau Jawa dan di sebelah barat Pulau Sulawesi. Pulau Kalimantan dibagi menjadi wilayah Indonesia (73%), Malaysia (26%), dan Brunei (1%). Pulau Kalimantan terkenal dengan julukan \"Pulau Seribu Sungai\" karena banyaknya sungai yang mengalir di pulau ini.\\nBorneo—yang berasal dari nama kesultanan Brunei—adalah nama yang dipakai oleh kolonial Inggris dan Belanda untuk menyebut pulau ini secara keseluruhan, sedangkan Kalimantan adalah nama yang digunakan oleh penduduk bagian timur pulau yang sekarang termasuk wilayah Indonesia.\\nWilayah utara pulau ini (Sabah, Brunei, Sarawak) untuk Malaysia dan Brunei Darussalam. Sementara untuk Indonesia wilayah Utara, adalah provinsi Kalimantan Utara.'"
      ]
     },
     "execution_count": 4,
     "metadata": {},
     "output_type": "execute_result"
    }
   ],
   "source": [
    "from langchain_text_splitters import RecursiveCharacterTextSplitter # import the text splitter\n",
    "\n",
    "text_splitter = RecursiveCharacterTextSplitter(chunk_size=1000, chunk_overlap= 200) # chunk_size is the size of each chunk, chunk_overlap is the overlap between chunks\n",
    "all_split= text_splitter.split_documents(docs) # split the text into chunks\n",
    "all_split[0].page_content # metadata of the first chunk"
   ]
  },
  {
   "cell_type": "code",
   "execution_count": 5,
   "metadata": {},
   "outputs": [
    {
     "data": {
      "text/plain": [
       "12"
      ]
     },
     "execution_count": 5,
     "metadata": {},
     "output_type": "execute_result"
    }
   ],
   "source": [
    "len(all_split) # number of chunks (ada 12 potongan)"
   ]
  },
  {
   "cell_type": "markdown",
   "metadata": {},
   "source": [
    "## Embedding"
   ]
  },
  {
   "cell_type": "code",
   "execution_count": 6,
   "metadata": {},
   "outputs": [
    {
     "name": "stderr",
     "output_type": "stream",
     "text": [
      "c:\\Users\\ShaneZolDyCk\\AppData\\Local\\Programs\\Python\\Python39\\lib\\site-packages\\tqdm\\auto.py:21: TqdmWarning: IProgress not found. Please update jupyter and ipywidgets. See https://ipywidgets.readthedocs.io/en/stable/user_install.html\n",
      "  from .autonotebook import tqdm as notebook_tqdm\n"
     ]
    }
   ],
   "source": [
    "from langchain_google_genai import GoogleGenerativeAIEmbeddings\n",
    "\n",
    "embeddings = GoogleGenerativeAIEmbeddings(model=\"models/embedding-001\", google_api_key=\"\")\n"
   ]
  },
  {
   "cell_type": "markdown",
   "metadata": {},
   "source": [
    "## Store Text"
   ]
  },
  {
   "cell_type": "code",
   "execution_count": 7,
   "metadata": {},
   "outputs": [],
   "source": [
    "from langchain_community.vectorstores import FAISS\n",
    "\n",
    "# Create the FAISS vectorstore from documents\n",
    "vectorstore = FAISS.from_documents(documents=all_split, embedding=embeddings)\n",
    "\n",
    "# Convert vectorstore to a retriever with the correct search_type argument\n",
    "retriever = vectorstore.as_retriever(search_type=\"similarity\", search_kwargs={\"k\": 6})  # \"k\" is the number of similar documents to retrieve\n"
   ]
  },
  {
   "cell_type": "markdown",
   "metadata": {},
   "source": [
    "## LLM"
   ]
  },
  {
   "cell_type": "code",
   "execution_count": 8,
   "metadata": {},
   "outputs": [],
   "source": [
    "from langchain_google_genai import ChatGoogleGenerativeAI\n",
    " # create the generative AI model\n",
    "llm = ChatGoogleGenerativeAI(model=\"gemini-pro\", google_api_key=\"\")"
   ]
  },
  {
   "cell_type": "markdown",
   "metadata": {},
   "source": [
    "## Prompt Template"
   ]
  },
  {
   "cell_type": "code",
   "execution_count": 9,
   "metadata": {},
   "outputs": [],
   "source": [
    "from langchain_core.prompts import PromptTemplate\n",
    "\n",
    "prompt_template = PromptTemplate.from_template(\"\"\"\n",
    "    Answer the question as detailed as possible from the provided context. make sure to provide all the details\\n                                       \n",
    "    Context: {context}\\n\n",
    "    Pertaanyaan: {question}\n",
    "\n",
    " \"\"\")\n"
   ]
  },
  {
   "cell_type": "markdown",
   "metadata": {},
   "source": [
    "## Inference"
   ]
  },
  {
   "cell_type": "code",
   "execution_count": 10,
   "metadata": {},
   "outputs": [
    {
     "name": "stdout",
     "output_type": "stream",
     "text": [
      "**Geografis Kalimantan Timur**\n",
      "\n",
      "* **Luas:** 127.346,92 km²\n",
      "* **Populasi:**\n",
      "    * 2020: 3.941.766 jiwa\n",
      "    * Pertengahan 2024 (proyeksi): 4.050.079 jiwa\n",
      "* **Kepadatan Penduduk:** Terendah keempat di Indonesia\n",
      "* **Ibu Kota:** Kota Samarinda\n",
      "* **Letak:** Pulau Kalimantan, Indonesia\n",
      "\n",
      "**Batas Wilayah:**\n",
      "\n",
      "* Utara: Kalimantan Utara, Ibu Kota Nusantara\n",
      "* Timur: Sulawesi\n",
      "* Selatan: Kalimantan Selatan, Kalimantan Barat\n",
      "* Barat: Kalimantan Tengah\n",
      "* Timur Laut: Sarawak (Malaysia Timur)\n",
      "\n",
      "**Ciri Fisik:**\n",
      "\n",
      "* Didominasi hutan hujan tropis\n",
      "* Memiliki sungai yang banyak, sehingga dijuluki \"Pulau Seribu Sungai\"\n",
      "* Memiliki beragam kerajaan di masa lalu, seperti Kerajaan Kutai, Kesultanan Kutai Kartanegara ing Martadipura, Kesultanan Pasir, dan Kesultanan Berau"
     ]
    }
   ],
   "source": [
    "from langchain_core.output_parsers import StrOutputParser\n",
    "from langchain_core.runnables import RunnablePassthrough\n",
    "\n",
    "\n",
    "def format_docs(docs):\n",
    "    return \"\\n\\n\".join(doc.page_content for doc in docs)\n",
    "\n",
    "\n",
    "rag_chain = (\n",
    "    {\"context\": retriever | format_docs, \"question\": RunnablePassthrough()}\n",
    "    | prompt_template\n",
    "    | llm\n",
    "    | StrOutputParser()\n",
    ")\n",
    "\n",
    "for chunk in rag_chain.stream(\"Jelaskan Geografi Kalimantan Timur\"):\n",
    "    print(chunk, end=\"\", flush=True)"
   ]
  },
  {
   "cell_type": "code",
   "execution_count": null,
   "metadata": {},
   "outputs": [],
   "source": []
  }
 ],
 "metadata": {
  "kernelspec": {
   "display_name": "Python 3",
   "language": "python",
   "name": "python3"
  },
  "language_info": {
   "codemirror_mode": {
    "name": "ipython",
    "version": 3
   },
   "file_extension": ".py",
   "mimetype": "text/x-python",
   "name": "python",
   "nbconvert_exporter": "python",
   "pygments_lexer": "ipython3",
   "version": "3.9.4"
  }
 },
 "nbformat": 4,
 "nbformat_minor": 2
}
